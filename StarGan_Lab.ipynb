{
  "cells": [
    {
      "cell_type": "markdown",
      "metadata": {
        "id": "view-in-github",
        "colab_type": "text"
      },
      "source": [
        "<a href=\"https://colab.research.google.com/github/ZoeLiao/VT-CS5804-Intro-to-AI-Mini-Project/blob/main/StarGan_Lab.ipynb\" target=\"_parent\"><img src=\"https://colab.research.google.com/assets/colab-badge.svg\" alt=\"Open In Colab\"/></a>"
      ]
    },
    {
      "cell_type": "code",
      "execution_count": null,
      "metadata": {
        "id": "B1j-KU_Qh5ft"
      },
      "outputs": [],
      "source": [
        "\"\"\"\n",
        "# If you want to store the data into google dirve, you can uncomment the follow code\n",
        "from google.colab import drive\n",
        "drive.mount('/content/drive')\n",
        "\n",
        "import os\n",
        "os.chdir('/content/drive/MyDrive/CS5804-Intro-to-AI')\n",
        "\"\"\""
      ]
    },
    {
      "cell_type": "code",
      "execution_count": 1,
      "metadata": {
        "colab": {
          "base_uri": "https://localhost:8080/"
        },
        "id": "WUT7RRx0f-Gb",
        "outputId": "3c234f4e-fff9-459e-c47a-34353bcedacf"
      },
      "outputs": [
        {
          "output_type": "stream",
          "name": "stdout",
          "text": [
            "Cloning into 'StarGAN'...\n",
            "remote: Enumerating objects: 162, done.\u001b[K\n",
            "remote: Total 162 (delta 0), reused 0 (delta 0), pack-reused 162\u001b[K\n",
            "Receiving objects: 100% (162/162), 13.76 MiB | 34.62 MiB/s, done.\n",
            "Resolving deltas: 100% (79/79), done.\n"
          ]
        }
      ],
      "source": [
        "!git clone https://github.com/yunjey/StarGAN.git"
      ]
    },
    {
      "cell_type": "code",
      "execution_count": 2,
      "metadata": {
        "colab": {
          "base_uri": "https://localhost:8080/"
        },
        "id": "v0e3rfZIgA8p",
        "outputId": "52129cca-d7a5-4f01-b835-9120c52a8f2d"
      },
      "outputs": [
        {
          "output_type": "stream",
          "name": "stdout",
          "text": [
            "/content/StarGAN\n"
          ]
        }
      ],
      "source": [
        "%cd StarGAN/"
      ]
    },
    {
      "cell_type": "code",
      "execution_count": null,
      "metadata": {
        "id": "blaN19mygEBd"
      },
      "outputs": [],
      "source": [
        "!bash download.sh celeba"
      ]
    },
    {
      "cell_type": "code",
      "execution_count": null,
      "metadata": {
        "id": "9vHBerIogEEd"
      },
      "outputs": [],
      "source": [
        "!bash download.sh pretrained-celeba-128x128"
      ]
    },
    {
      "cell_type": "code",
      "execution_count": null,
      "metadata": {
        "id": "VGwF4CqzgEHU"
      },
      "outputs": [],
      "source": [
        "!pip install tensorflow==1.15.2"
      ]
    },
    {
      "cell_type": "code",
      "execution_count": 7,
      "metadata": {
        "colab": {
          "base_uri": "https://localhost:8080/"
        },
        "id": "VaBih8bfgEJ1",
        "outputId": "585d2709-8ce3-41e6-d2bb-3cfc4c4526f9"
      },
      "outputs": [
        {
          "output_type": "stream",
          "name": "stdout",
          "text": [
            "Namespace(attr_path='data/celeba/list_attr_celeba.txt', batch_size=16, beta1=0.5, beta2=0.999, c2_dim=8, c_dim=5, celeba_crop_size=178, celeba_image_dir='data/celeba/images', d_conv_dim=64, d_lr=0.0001, d_repeat_num=6, dataset='CelebA', g_conv_dim=64, g_lr=0.0001, g_repeat_num=6, image_size=128, lambda_cls=1, lambda_gp=10, lambda_rec=10, log_dir='stargan/logs', log_step=10, lr_update_step=1000, mode='test', model_save_dir='stargan_celeba_128/models', model_save_step=10000, n_critic=5, num_iters=200000, num_iters_decay=100000, num_workers=1, rafd_crop_size=256, rafd_image_dir='data/RaFD/train', result_dir='stargan_celeba_128/results', resume_iters=None, sample_dir='stargan/samples', sample_step=1000, selected_attrs=['Black_Hair', 'Blond_Hair', 'Brown_Hair', 'Male', 'Young'], test_iters=200000, use_tensorboard=True)\n",
            "Finished preprocessing the CelebA dataset...\n",
            "Generator(\n",
            "  (main): Sequential(\n",
            "    (0): Conv2d(8, 64, kernel_size=(7, 7), stride=(1, 1), padding=(3, 3), bias=False)\n",
            "    (1): InstanceNorm2d(64, eps=1e-05, momentum=0.1, affine=True, track_running_stats=True)\n",
            "    (2): ReLU(inplace=True)\n",
            "    (3): Conv2d(64, 128, kernel_size=(4, 4), stride=(2, 2), padding=(1, 1), bias=False)\n",
            "    (4): InstanceNorm2d(128, eps=1e-05, momentum=0.1, affine=True, track_running_stats=True)\n",
            "    (5): ReLU(inplace=True)\n",
            "    (6): Conv2d(128, 256, kernel_size=(4, 4), stride=(2, 2), padding=(1, 1), bias=False)\n",
            "    (7): InstanceNorm2d(256, eps=1e-05, momentum=0.1, affine=True, track_running_stats=True)\n",
            "    (8): ReLU(inplace=True)\n",
            "    (9): ResidualBlock(\n",
            "      (main): Sequential(\n",
            "        (0): Conv2d(256, 256, kernel_size=(3, 3), stride=(1, 1), padding=(1, 1), bias=False)\n",
            "        (1): InstanceNorm2d(256, eps=1e-05, momentum=0.1, affine=True, track_running_stats=True)\n",
            "        (2): ReLU(inplace=True)\n",
            "        (3): Conv2d(256, 256, kernel_size=(3, 3), stride=(1, 1), padding=(1, 1), bias=False)\n",
            "        (4): InstanceNorm2d(256, eps=1e-05, momentum=0.1, affine=True, track_running_stats=True)\n",
            "      )\n",
            "    )\n",
            "    (10): ResidualBlock(\n",
            "      (main): Sequential(\n",
            "        (0): Conv2d(256, 256, kernel_size=(3, 3), stride=(1, 1), padding=(1, 1), bias=False)\n",
            "        (1): InstanceNorm2d(256, eps=1e-05, momentum=0.1, affine=True, track_running_stats=True)\n",
            "        (2): ReLU(inplace=True)\n",
            "        (3): Conv2d(256, 256, kernel_size=(3, 3), stride=(1, 1), padding=(1, 1), bias=False)\n",
            "        (4): InstanceNorm2d(256, eps=1e-05, momentum=0.1, affine=True, track_running_stats=True)\n",
            "      )\n",
            "    )\n",
            "    (11): ResidualBlock(\n",
            "      (main): Sequential(\n",
            "        (0): Conv2d(256, 256, kernel_size=(3, 3), stride=(1, 1), padding=(1, 1), bias=False)\n",
            "        (1): InstanceNorm2d(256, eps=1e-05, momentum=0.1, affine=True, track_running_stats=True)\n",
            "        (2): ReLU(inplace=True)\n",
            "        (3): Conv2d(256, 256, kernel_size=(3, 3), stride=(1, 1), padding=(1, 1), bias=False)\n",
            "        (4): InstanceNorm2d(256, eps=1e-05, momentum=0.1, affine=True, track_running_stats=True)\n",
            "      )\n",
            "    )\n",
            "    (12): ResidualBlock(\n",
            "      (main): Sequential(\n",
            "        (0): Conv2d(256, 256, kernel_size=(3, 3), stride=(1, 1), padding=(1, 1), bias=False)\n",
            "        (1): InstanceNorm2d(256, eps=1e-05, momentum=0.1, affine=True, track_running_stats=True)\n",
            "        (2): ReLU(inplace=True)\n",
            "        (3): Conv2d(256, 256, kernel_size=(3, 3), stride=(1, 1), padding=(1, 1), bias=False)\n",
            "        (4): InstanceNorm2d(256, eps=1e-05, momentum=0.1, affine=True, track_running_stats=True)\n",
            "      )\n",
            "    )\n",
            "    (13): ResidualBlock(\n",
            "      (main): Sequential(\n",
            "        (0): Conv2d(256, 256, kernel_size=(3, 3), stride=(1, 1), padding=(1, 1), bias=False)\n",
            "        (1): InstanceNorm2d(256, eps=1e-05, momentum=0.1, affine=True, track_running_stats=True)\n",
            "        (2): ReLU(inplace=True)\n",
            "        (3): Conv2d(256, 256, kernel_size=(3, 3), stride=(1, 1), padding=(1, 1), bias=False)\n",
            "        (4): InstanceNorm2d(256, eps=1e-05, momentum=0.1, affine=True, track_running_stats=True)\n",
            "      )\n",
            "    )\n",
            "    (14): ResidualBlock(\n",
            "      (main): Sequential(\n",
            "        (0): Conv2d(256, 256, kernel_size=(3, 3), stride=(1, 1), padding=(1, 1), bias=False)\n",
            "        (1): InstanceNorm2d(256, eps=1e-05, momentum=0.1, affine=True, track_running_stats=True)\n",
            "        (2): ReLU(inplace=True)\n",
            "        (3): Conv2d(256, 256, kernel_size=(3, 3), stride=(1, 1), padding=(1, 1), bias=False)\n",
            "        (4): InstanceNorm2d(256, eps=1e-05, momentum=0.1, affine=True, track_running_stats=True)\n",
            "      )\n",
            "    )\n",
            "    (15): ConvTranspose2d(256, 128, kernel_size=(4, 4), stride=(2, 2), padding=(1, 1), bias=False)\n",
            "    (16): InstanceNorm2d(128, eps=1e-05, momentum=0.1, affine=True, track_running_stats=True)\n",
            "    (17): ReLU(inplace=True)\n",
            "    (18): ConvTranspose2d(128, 64, kernel_size=(4, 4), stride=(2, 2), padding=(1, 1), bias=False)\n",
            "    (19): InstanceNorm2d(64, eps=1e-05, momentum=0.1, affine=True, track_running_stats=True)\n",
            "    (20): ReLU(inplace=True)\n",
            "    (21): Conv2d(64, 3, kernel_size=(7, 7), stride=(1, 1), padding=(3, 3), bias=False)\n",
            "    (22): Tanh()\n",
            "  )\n",
            ")\n",
            "G\n",
            "The number of parameters: 8430528\n",
            "Discriminator(\n",
            "  (main): Sequential(\n",
            "    (0): Conv2d(3, 64, kernel_size=(4, 4), stride=(2, 2), padding=(1, 1))\n",
            "    (1): LeakyReLU(negative_slope=0.01)\n",
            "    (2): Conv2d(64, 128, kernel_size=(4, 4), stride=(2, 2), padding=(1, 1))\n",
            "    (3): LeakyReLU(negative_slope=0.01)\n",
            "    (4): Conv2d(128, 256, kernel_size=(4, 4), stride=(2, 2), padding=(1, 1))\n",
            "    (5): LeakyReLU(negative_slope=0.01)\n",
            "    (6): Conv2d(256, 512, kernel_size=(4, 4), stride=(2, 2), padding=(1, 1))\n",
            "    (7): LeakyReLU(negative_slope=0.01)\n",
            "    (8): Conv2d(512, 1024, kernel_size=(4, 4), stride=(2, 2), padding=(1, 1))\n",
            "    (9): LeakyReLU(negative_slope=0.01)\n",
            "    (10): Conv2d(1024, 2048, kernel_size=(4, 4), stride=(2, 2), padding=(1, 1))\n",
            "    (11): LeakyReLU(negative_slope=0.01)\n",
            "  )\n",
            "  (conv1): Conv2d(2048, 1, kernel_size=(3, 3), stride=(1, 1), padding=(1, 1), bias=False)\n",
            "  (conv2): Conv2d(2048, 5, kernel_size=(2, 2), stride=(1, 1), bias=False)\n",
            ")\n",
            "D\n",
            "The number of parameters: 44762048\n",
            "WARNING:tensorflow:From /content/StarGAN/logger.py:9: The name tf.summary.FileWriter is deprecated. Please use tf.compat.v1.summary.FileWriter instead.\n",
            "\n",
            "Loading the trained models from step 200000...\n",
            "Saved real and fake images into stargan_celeba_128/results/1-images.jpg...\n",
            "Saved real and fake images into stargan_celeba_128/results/2-images.jpg...\n",
            "Saved real and fake images into stargan_celeba_128/results/3-images.jpg...\n",
            "Saved real and fake images into stargan_celeba_128/results/4-images.jpg...\n",
            "Saved real and fake images into stargan_celeba_128/results/5-images.jpg...\n",
            "Saved real and fake images into stargan_celeba_128/results/6-images.jpg...\n",
            "Saved real and fake images into stargan_celeba_128/results/7-images.jpg...\n",
            "Saved real and fake images into stargan_celeba_128/results/8-images.jpg...\n",
            "Saved real and fake images into stargan_celeba_128/results/9-images.jpg...\n",
            "Saved real and fake images into stargan_celeba_128/results/10-images.jpg...\n",
            "Saved real and fake images into stargan_celeba_128/results/11-images.jpg...\n",
            "Saved real and fake images into stargan_celeba_128/results/12-images.jpg...\n",
            "Saved real and fake images into stargan_celeba_128/results/13-images.jpg...\n",
            "Saved real and fake images into stargan_celeba_128/results/14-images.jpg...\n",
            "Saved real and fake images into stargan_celeba_128/results/15-images.jpg...\n",
            "Saved real and fake images into stargan_celeba_128/results/16-images.jpg...\n",
            "Saved real and fake images into stargan_celeba_128/results/17-images.jpg...\n",
            "Saved real and fake images into stargan_celeba_128/results/18-images.jpg...\n",
            "Saved real and fake images into stargan_celeba_128/results/19-images.jpg...\n",
            "Saved real and fake images into stargan_celeba_128/results/20-images.jpg...\n",
            "Saved real and fake images into stargan_celeba_128/results/21-images.jpg...\n",
            "Saved real and fake images into stargan_celeba_128/results/22-images.jpg...\n",
            "Saved real and fake images into stargan_celeba_128/results/23-images.jpg...\n",
            "Saved real and fake images into stargan_celeba_128/results/24-images.jpg...\n",
            "Saved real and fake images into stargan_celeba_128/results/25-images.jpg...\n",
            "Saved real and fake images into stargan_celeba_128/results/26-images.jpg...\n",
            "Saved real and fake images into stargan_celeba_128/results/27-images.jpg...\n",
            "Saved real and fake images into stargan_celeba_128/results/28-images.jpg...\n",
            "Saved real and fake images into stargan_celeba_128/results/29-images.jpg...\n",
            "Saved real and fake images into stargan_celeba_128/results/30-images.jpg...\n",
            "Saved real and fake images into stargan_celeba_128/results/31-images.jpg...\n",
            "Saved real and fake images into stargan_celeba_128/results/32-images.jpg...\n",
            "Saved real and fake images into stargan_celeba_128/results/33-images.jpg...\n",
            "Saved real and fake images into stargan_celeba_128/results/34-images.jpg...\n",
            "Saved real and fake images into stargan_celeba_128/results/35-images.jpg...\n",
            "Saved real and fake images into stargan_celeba_128/results/36-images.jpg...\n",
            "Saved real and fake images into stargan_celeba_128/results/37-images.jpg...\n",
            "Saved real and fake images into stargan_celeba_128/results/38-images.jpg...\n",
            "Saved real and fake images into stargan_celeba_128/results/39-images.jpg...\n",
            "Saved real and fake images into stargan_celeba_128/results/40-images.jpg...\n",
            "Saved real and fake images into stargan_celeba_128/results/41-images.jpg...\n",
            "Saved real and fake images into stargan_celeba_128/results/42-images.jpg...\n",
            "Saved real and fake images into stargan_celeba_128/results/43-images.jpg...\n",
            "Saved real and fake images into stargan_celeba_128/results/44-images.jpg...\n",
            "Saved real and fake images into stargan_celeba_128/results/45-images.jpg...\n",
            "Saved real and fake images into stargan_celeba_128/results/46-images.jpg...\n",
            "Saved real and fake images into stargan_celeba_128/results/47-images.jpg...\n",
            "Saved real and fake images into stargan_celeba_128/results/48-images.jpg...\n",
            "Saved real and fake images into stargan_celeba_128/results/49-images.jpg...\n",
            "Saved real and fake images into stargan_celeba_128/results/50-images.jpg...\n",
            "Saved real and fake images into stargan_celeba_128/results/51-images.jpg...\n",
            "Saved real and fake images into stargan_celeba_128/results/52-images.jpg...\n",
            "Saved real and fake images into stargan_celeba_128/results/53-images.jpg...\n",
            "Saved real and fake images into stargan_celeba_128/results/54-images.jpg...\n",
            "Saved real and fake images into stargan_celeba_128/results/55-images.jpg...\n",
            "Saved real and fake images into stargan_celeba_128/results/56-images.jpg...\n",
            "Saved real and fake images into stargan_celeba_128/results/57-images.jpg...\n",
            "Saved real and fake images into stargan_celeba_128/results/58-images.jpg...\n",
            "Saved real and fake images into stargan_celeba_128/results/59-images.jpg...\n",
            "Saved real and fake images into stargan_celeba_128/results/60-images.jpg...\n",
            "Saved real and fake images into stargan_celeba_128/results/61-images.jpg...\n",
            "Saved real and fake images into stargan_celeba_128/results/62-images.jpg...\n",
            "Saved real and fake images into stargan_celeba_128/results/63-images.jpg...\n",
            "Saved real and fake images into stargan_celeba_128/results/64-images.jpg...\n",
            "Saved real and fake images into stargan_celeba_128/results/65-images.jpg...\n",
            "Saved real and fake images into stargan_celeba_128/results/66-images.jpg...\n",
            "Saved real and fake images into stargan_celeba_128/results/67-images.jpg...\n",
            "Saved real and fake images into stargan_celeba_128/results/68-images.jpg...\n",
            "Saved real and fake images into stargan_celeba_128/results/69-images.jpg...\n",
            "Saved real and fake images into stargan_celeba_128/results/70-images.jpg...\n",
            "Saved real and fake images into stargan_celeba_128/results/71-images.jpg...\n",
            "Saved real and fake images into stargan_celeba_128/results/72-images.jpg...\n",
            "Saved real and fake images into stargan_celeba_128/results/73-images.jpg...\n",
            "Saved real and fake images into stargan_celeba_128/results/74-images.jpg...\n",
            "Saved real and fake images into stargan_celeba_128/results/75-images.jpg...\n",
            "Saved real and fake images into stargan_celeba_128/results/76-images.jpg...\n",
            "Saved real and fake images into stargan_celeba_128/results/77-images.jpg...\n",
            "Saved real and fake images into stargan_celeba_128/results/78-images.jpg...\n",
            "Saved real and fake images into stargan_celeba_128/results/79-images.jpg...\n",
            "Saved real and fake images into stargan_celeba_128/results/80-images.jpg...\n",
            "Saved real and fake images into stargan_celeba_128/results/81-images.jpg...\n",
            "Saved real and fake images into stargan_celeba_128/results/82-images.jpg...\n",
            "Saved real and fake images into stargan_celeba_128/results/83-images.jpg...\n",
            "Saved real and fake images into stargan_celeba_128/results/84-images.jpg...\n",
            "Saved real and fake images into stargan_celeba_128/results/85-images.jpg...\n",
            "Saved real and fake images into stargan_celeba_128/results/86-images.jpg...\n",
            "Saved real and fake images into stargan_celeba_128/results/87-images.jpg...\n",
            "Saved real and fake images into stargan_celeba_128/results/88-images.jpg...\n",
            "Saved real and fake images into stargan_celeba_128/results/89-images.jpg...\n",
            "Saved real and fake images into stargan_celeba_128/results/90-images.jpg...\n",
            "Saved real and fake images into stargan_celeba_128/results/91-images.jpg...\n",
            "Saved real and fake images into stargan_celeba_128/results/92-images.jpg...\n",
            "Saved real and fake images into stargan_celeba_128/results/93-images.jpg...\n",
            "Saved real and fake images into stargan_celeba_128/results/94-images.jpg...\n",
            "Saved real and fake images into stargan_celeba_128/results/95-images.jpg...\n",
            "Saved real and fake images into stargan_celeba_128/results/96-images.jpg...\n",
            "Saved real and fake images into stargan_celeba_128/results/97-images.jpg...\n",
            "Saved real and fake images into stargan_celeba_128/results/98-images.jpg...\n",
            "Saved real and fake images into stargan_celeba_128/results/99-images.jpg...\n",
            "Saved real and fake images into stargan_celeba_128/results/100-images.jpg...\n",
            "Saved real and fake images into stargan_celeba_128/results/101-images.jpg...\n",
            "Saved real and fake images into stargan_celeba_128/results/102-images.jpg...\n",
            "Saved real and fake images into stargan_celeba_128/results/103-images.jpg...\n",
            "Saved real and fake images into stargan_celeba_128/results/104-images.jpg...\n",
            "Saved real and fake images into stargan_celeba_128/results/105-images.jpg...\n",
            "Saved real and fake images into stargan_celeba_128/results/106-images.jpg...\n",
            "Saved real and fake images into stargan_celeba_128/results/107-images.jpg...\n",
            "Saved real and fake images into stargan_celeba_128/results/108-images.jpg...\n",
            "Saved real and fake images into stargan_celeba_128/results/109-images.jpg...\n",
            "Saved real and fake images into stargan_celeba_128/results/110-images.jpg...\n",
            "Saved real and fake images into stargan_celeba_128/results/111-images.jpg...\n",
            "Saved real and fake images into stargan_celeba_128/results/112-images.jpg...\n",
            "Saved real and fake images into stargan_celeba_128/results/113-images.jpg...\n",
            "Saved real and fake images into stargan_celeba_128/results/114-images.jpg...\n",
            "Saved real and fake images into stargan_celeba_128/results/115-images.jpg...\n",
            "Saved real and fake images into stargan_celeba_128/results/116-images.jpg...\n",
            "Saved real and fake images into stargan_celeba_128/results/117-images.jpg...\n",
            "Saved real and fake images into stargan_celeba_128/results/118-images.jpg...\n",
            "Saved real and fake images into stargan_celeba_128/results/119-images.jpg...\n",
            "Saved real and fake images into stargan_celeba_128/results/120-images.jpg...\n",
            "Saved real and fake images into stargan_celeba_128/results/121-images.jpg...\n",
            "Saved real and fake images into stargan_celeba_128/results/122-images.jpg...\n",
            "Saved real and fake images into stargan_celeba_128/results/123-images.jpg...\n",
            "Saved real and fake images into stargan_celeba_128/results/124-images.jpg...\n",
            "Saved real and fake images into stargan_celeba_128/results/125-images.jpg...\n"
          ]
        }
      ],
      "source": [
        "# Dataset 1 - CelebA\n",
        "!python main.py --mode test --dataset CelebA --image_size 128 --c_dim 5 \\\n",
        "                 --selected_attrs Black_Hair Blond_Hair Brown_Hair Male Young \\\n",
        "                 --model_save_dir='stargan_celeba_128/models' \\\n",
        "                 --result_dir='stargan_celeba_128/results'"
      ]
    }
  ],
  "metadata": {
    "colab": {
      "name": "StarGan_Lab.ipynb",
      "provenance": [],
      "include_colab_link": true
    },
    "kernelspec": {
      "display_name": "Python 3",
      "name": "python3"
    },
    "language_info": {
      "name": "python"
    }
  },
  "nbformat": 4,
  "nbformat_minor": 0
}